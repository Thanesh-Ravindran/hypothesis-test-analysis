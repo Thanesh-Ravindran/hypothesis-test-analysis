{
 "cells": [
  {
   "cell_type": "markdown",
   "metadata": {},
   "source": [
    "#### Analysing the Impact of Altering Paywall Headline on Subsription Rate\n",
    "\n",
    "An A/B Test is a randomized experiment in which a two or more variants a variable are deployed to different segments of customers to determine which of the variant is most effective in boosting KPIs. Here are some scenarios where AB testing is used:\n",
    "\n",
    "- Streaming services: Determining whether changing the movie recommendation algorithm increases user engagement\n",
    "- E-commerce: Determining which product page layout results in the highest proportion of checkouts\n",
    "Product & Service Advertising: Determining if the usage of emojis in Advertisment headlines result in higher click rates\n",
    "\n",
    "For this case, we will be analysing the A/B test results data of an online learning platform. The platform operates on a freemium model, some of its courses are free, but the advanced courses are locked behind a paywall. The platform provides a 2 week trial for its advanced courses. At the end of the trial period, users are directed to a paywall. Two paywall variants with differing headlines were compared in this A/B test. \n",
    "\n",
    "\n",
    "- \"We hope you enjoyed learning with us. Please consider subscribing to learn more.\" (Current, Control)\n",
    "- \"Your trial has ended! Subscribe now so you dont miss out!\" (Test)"
   ]
  },
  {
   "cell_type": "code",
   "execution_count": 19,
   "metadata": {},
   "outputs": [],
   "source": [
    "# imports\n",
    "import numpy as np\n",
    "import pandas as pd\n",
    "from scipy.stats import norm\n",
    "\n",
    "import configparser\n",
    "\n",
    "config = configparser.ConfigParser()\n",
    "config.read('config.ini')\n",
    "\n",
    "pd.options.display.max_columns=None\n",
    "pd.options.display.max_rows=None\n",
    "pd.options.display.max_colwidth=None"
   ]
  },
  {
   "cell_type": "code",
   "execution_count": 4,
   "metadata": {},
   "outputs": [
    {
     "name": "stdout",
     "output_type": "stream",
     "text": [
      "<class 'pandas.core.frame.DataFrame'>\n",
      "RangeIndex: 45883 entries, 0 to 45882\n",
      "Data columns (total 6 columns):\n",
      " #   Column      Non-Null Count  Dtype \n",
      "---  ------      --------------  ----- \n",
      " 0   uid         45883 non-null  int64 \n",
      " 1   country     45883 non-null  object\n",
      " 2   gender      45883 non-null  object\n",
      " 3   group       45883 non-null  object\n",
      " 4   device      45883 non-null  object\n",
      " 5   subscribed  45883 non-null  object\n",
      "dtypes: int64(1), object(5)\n",
      "memory usage: 2.1+ MB\n",
      "None\n"
     ]
    },
    {
     "data": {
      "text/html": [
       "<div>\n",
       "<style scoped>\n",
       "    .dataframe tbody tr th:only-of-type {\n",
       "        vertical-align: middle;\n",
       "    }\n",
       "\n",
       "    .dataframe tbody tr th {\n",
       "        vertical-align: top;\n",
       "    }\n",
       "\n",
       "    .dataframe thead th {\n",
       "        text-align: right;\n",
       "    }\n",
       "</style>\n",
       "<table border=\"1\" class=\"dataframe\">\n",
       "  <thead>\n",
       "    <tr style=\"text-align: right;\">\n",
       "      <th></th>\n",
       "      <th>uid</th>\n",
       "      <th>country</th>\n",
       "      <th>gender</th>\n",
       "      <th>group</th>\n",
       "      <th>device</th>\n",
       "      <th>subscribed</th>\n",
       "    </tr>\n",
       "  </thead>\n",
       "  <tbody>\n",
       "    <tr>\n",
       "      <th>0</th>\n",
       "      <td>72629692</td>\n",
       "      <td>FRA</td>\n",
       "      <td>F</td>\n",
       "      <td>control</td>\n",
       "      <td>android</td>\n",
       "      <td>Yes</td>\n",
       "    </tr>\n",
       "    <tr>\n",
       "      <th>1</th>\n",
       "      <td>25633647</td>\n",
       "      <td>GBR</td>\n",
       "      <td>F</td>\n",
       "      <td>control</td>\n",
       "      <td>android</td>\n",
       "      <td>No</td>\n",
       "    </tr>\n",
       "    <tr>\n",
       "      <th>2</th>\n",
       "      <td>31206551</td>\n",
       "      <td>BRA</td>\n",
       "      <td>M</td>\n",
       "      <td>test</td>\n",
       "      <td>ios</td>\n",
       "      <td>No</td>\n",
       "    </tr>\n",
       "    <tr>\n",
       "      <th>3</th>\n",
       "      <td>87162368</td>\n",
       "      <td>USA</td>\n",
       "      <td>M</td>\n",
       "      <td>control</td>\n",
       "      <td>android</td>\n",
       "      <td>Yes</td>\n",
       "    </tr>\n",
       "    <tr>\n",
       "      <th>4</th>\n",
       "      <td>88562222</td>\n",
       "      <td>USA</td>\n",
       "      <td>M</td>\n",
       "      <td>test</td>\n",
       "      <td>android</td>\n",
       "      <td>No</td>\n",
       "    </tr>\n",
       "  </tbody>\n",
       "</table>\n",
       "</div>"
      ],
      "text/plain": [
       "        uid country gender    group   device subscribed\n",
       "0  72629692     FRA      F  control  android        Yes\n",
       "1  25633647     GBR      F  control  android         No\n",
       "2  31206551     BRA      M     test      ios         No\n",
       "3  87162368     USA      M  control  android        Yes\n",
       "4  88562222     USA      M     test  android         No"
      ]
     },
     "execution_count": 4,
     "metadata": {},
     "output_type": "execute_result"
    }
   ],
   "source": [
    "PATH = config['Paths']['ab_test_data']\n",
    "df_ab = pd.read_csv(f'{PATH}ab_testing_results.csv', delimiter=\",\")\n",
    "print(df_ab.info())\n",
    "\n",
    "df_ab.head()"
   ]
  },
  {
   "cell_type": "markdown",
   "metadata": {},
   "source": [
    "Before we can analyse the results, we need to ensure that the A/B test was deployed correctly. Randomness is key for the test to yield optimal results. Hence, the distribution of the country, gender and device features within the control and test groups should be approximately equal to one another. This is to eliminate the possibility of a confounding variable impacting our results. Also, the sample size for both groups would ideally be large (>30) and roughly the same. Any violation of these criteria is considered to be sub-optimal practices which could lead to misleading test results."
   ]
  },
  {
   "cell_type": "code",
   "execution_count": 13,
   "metadata": {},
   "outputs": [
    {
     "data": {
      "text/plain": [
       "group    country\n",
       "control  USA        0.301056\n",
       "         BRA        0.196358\n",
       "         MEX        0.125429\n",
       "         DEU        0.082142\n",
       "         TUR        0.078013\n",
       "         FRA        0.062280\n",
       "         GBR        0.060237\n",
       "         ESP        0.042157\n",
       "         CAN        0.030336\n",
       "         AUS        0.021991\n",
       "test     USA        0.309128\n",
       "         BRA        0.196336\n",
       "         MEX        0.115502\n",
       "         DEU        0.078954\n",
       "         TUR        0.076156\n",
       "         GBR        0.062210\n",
       "         FRA        0.061598\n",
       "         ESP        0.042144\n",
       "         CAN        0.035630\n",
       "         AUS        0.022340\n",
       "Name: proportion, dtype: float64"
      ]
     },
     "execution_count": 13,
     "metadata": {},
     "output_type": "execute_result"
    }
   ],
   "source": [
    "# check dist of country for control & test groups\n",
    "df_ab.groupby('group')[['country']].value_counts(normalize=True)"
   ]
  },
  {
   "cell_type": "code",
   "execution_count": 12,
   "metadata": {},
   "outputs": [
    {
     "data": {
      "text/plain": [
       "group    gender  device \n",
       "control  M       android    0.255161\n",
       "                 ios        0.250641\n",
       "         F       ios        0.250120\n",
       "                 android    0.244078\n",
       "test     F       android    0.251814\n",
       "         M       ios        0.251071\n",
       "                 android    0.250721\n",
       "         F       ios        0.246393\n",
       "Name: proportion, dtype: float64"
      ]
     },
     "execution_count": 12,
     "metadata": {},
     "output_type": "execute_result"
    }
   ],
   "source": [
    "# check dist of gender and device for control and test groups\n",
    "df_ab.groupby('group')[['gender', 'device']].value_counts(normalize=True)"
   ]
  },
  {
   "cell_type": "code",
   "execution_count": 15,
   "metadata": {},
   "outputs": [
    {
     "name": "stdout",
     "output_type": "stream",
     "text": [
      "No. of customers in total sample: 45883\n"
     ]
    },
    {
     "data": {
      "text/plain": [
       "group\n",
       "control    0.501471\n",
       "test       0.498529\n",
       "Name: proportion, dtype: float64"
      ]
     },
     "execution_count": 15,
     "metadata": {},
     "output_type": "execute_result"
    }
   ],
   "source": [
    "print(f'No. of customers in total sample: {df_ab.uid.nunique()}')\n",
    "\n",
    "# check sample size of control and test groups\n",
    "df_ab['group'].value_counts(normalize=True)"
   ]
  },
  {
   "cell_type": "markdown",
   "metadata": {},
   "source": [
    "We can observe that the distribution of country, gender and device in both control and test along with the sample size of two groups adhere to optimal A/B testing deployment.\n",
    "\n",
    "We will now perform hypothesis test to draw a conclusion from the A/B test conducted."
   ]
  },
  {
   "cell_type": "markdown",
   "metadata": {},
   "source": [
    "#### From business\n",
    "\n",
    "The platform only considers the test paywall to be worth implementing if its rate is 3% greater than that of the control group. Thus, the null and alternative hypotheses for our hypothesis test is as follows:\n",
    "\n",
    "- `Hypo(0): p(test) - p(control) = 3%`\n",
    "- `Hypo(1): p(test) - p(control) > 3%`\n",
    "\n",
    "This is a one-sided two sample proportion test as we are testing if `p(test) - p(control) > 3`. We will be conducting this test at the `5%` significance level. We will assume that `Hypo(0)` is true to conduct the test."
   ]
  },
  {
   "cell_type": "code",
   "execution_count": 16,
   "metadata": {},
   "outputs": [
    {
     "name": "stdout",
     "output_type": "stream",
     "text": [
      "0.04007702404356617\n"
     ]
    }
   ],
   "source": [
    "alpha = 0.05\n",
    "\n",
    "# get sample proportions & sample sizes\n",
    "sample_data = df_ab.groupby('group')['subscribed'].value_counts(normalize=True)\n",
    "sample_size = df_ab['group'].value_counts()\n",
    "\n",
    "sample_test = sample_data[('test','Yes')]\n",
    "sample_control = sample_data[('control','Yes')]\n",
    "\n",
    "size_test = sample_size['test']\n",
    "size_control = sample_size['control']\n",
    "\n",
    "# compute diff of sample proportions\n",
    "print(sample_test-sample_control)"
   ]
  },
  {
   "cell_type": "markdown",
   "metadata": {},
   "source": [
    "So the subscription rate of the test sample is 4% higher than that of the control sample. We need to determine if this is statistically significant."
   ]
  },
  {
   "cell_type": "code",
   "execution_count": 17,
   "metadata": {},
   "outputs": [
    {
     "name": "stdout",
     "output_type": "stream",
     "text": [
      "2.158522748076968\n"
     ]
    }
   ],
   "source": [
    "# compute weighted mean of sample proportions\n",
    "sample_weighted_mean = ((size_test * sample_test) + (size_control * sample_control))/(size_test + size_control)\n",
    "\n",
    "# calculate std error of diff in sample proportions\n",
    "sample_weighted_mean_se = np.sqrt((sample_weighted_mean * (1-sample_weighted_mean)) / size_test + \n",
    "                                  (sample_weighted_mean * (1-sample_weighted_mean)) / size_control)\n",
    "\n",
    "# compute z-score\n",
    "z_score = ((sample_test - sample_control) - 0.03)/sample_weighted_mean_se\n",
    "print(z_score)"
   ]
  },
  {
   "cell_type": "markdown",
   "metadata": {},
   "source": [
    "Now that we have caculated the test statistic, we can proceed to calculate the p-value. The p-value is defined as the probabilty of obtaining a result which is equal to or more extreme than the result observed, assuming the null hypothesis is true.\n",
    "\n",
    "- p_value > alpha indicates that there is evidence supporting `Hypo(0)`\n",
    "- p_value <= alpha indicates that there is evidence against `Hypo(0)`"
   ]
  },
  {
   "cell_type": "code",
   "execution_count": 24,
   "metadata": {},
   "outputs": [
    {
     "name": "stdout",
     "output_type": "stream",
     "text": [
      "p-value: 0.015\n",
      "alpha value: 0.05\n",
      "\n",
      "p_value > alpha: False\n",
      "p_value <= alpha: True\n"
     ]
    }
   ],
   "source": [
    "# compute p-value\n",
    "p_value = 1 - norm.cdf(z_score)\n",
    "\n",
    "print(f'p-value: {round(p_value,3)}')\n",
    "print(f'alpha value: {alpha}')\n",
    "print()\n",
    "print(f'p_value > alpha: {p_value > alpha}')\n",
    "print(f'p_value <= alpha: {p_value <= alpha}')"
   ]
  },
  {
   "cell_type": "markdown",
   "metadata": {},
   "source": [
    "Since the p_value is less than the significance level, there is evidence aganist the null hypothesis. We reject the null hypothesis. There is evidence at the 5% significance level that the subscription rate of the test group is 3% more than that of the control group. Hence the Platform should go ahead and implement the proposed paywall headline!\n",
    "\n",
    "Moreover, we can calculate a 95% confidence interval for the difference in subscription rates as follows:"
   ]
  },
  {
   "cell_type": "code",
   "execution_count": 26,
   "metadata": {},
   "outputs": [
    {
     "name": "stdout",
     "output_type": "stream",
     "text": [
      "[0.030926967962698025, 0.04922708012443431]\n"
     ]
    }
   ],
   "source": [
    "conf_int_95 = [(sample_test - sample_control) - (norm.ppf(1-0.025)*sample_weighted_mean_se), (sample_test - sample_control) + (norm.ppf(1-0.025)*sample_weighted_mean_se)]  \n",
    "print(conf_int_95)"
   ]
  },
  {
   "cell_type": "markdown",
   "metadata": {},
   "source": [
    "There is a 95% chance that this interval encompasses the true increase in subscription rate when switching to the proposed paywall headline."
   ]
  }
 ],
 "metadata": {
  "kernelspec": {
   "display_name": "Python 3",
   "language": "python",
   "name": "python3"
  },
  "language_info": {
   "codemirror_mode": {
    "name": "ipython",
    "version": 3
   },
   "file_extension": ".py",
   "mimetype": "text/x-python",
   "name": "python",
   "nbconvert_exporter": "python",
   "pygments_lexer": "ipython3",
   "version": "3.10.11"
  }
 },
 "nbformat": 4,
 "nbformat_minor": 2
}
